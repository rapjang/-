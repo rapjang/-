{
 "cells": [
  {
   "cell_type": "markdown",
   "id": "7d730994-9c4a-4ec0-a57a-5c2ab9ff7ff8",
   "metadata": {},
   "source": [
    "# 마을방송 무선국 정보 API (단위 : MHz)\n",
    "##### >> 사용자가 주소 정보를 통해 해당 지역에서 청취 가능한 마을방송 무선국 정보 및 주파수 정보를 제공 받을 수 있습니다.\n",
    "\n",
    "### 데이터 받는 방법\n",
    "##### 1. openAPI - X (전체 데이터를 받기가 어렵다)\n",
    "##### https://spectrummap.kr/cop/bbs/selectBoardArticle.do?menuNo=300543&bbsId=BBSMSTR_000000000172&nttId=14708&menuNo=300543&gubun=1\n",
    "##### 2. 웹에서 직접 받은 후 가공 - O (전체 데이터 받기위해 이 방법이 훨씬 좋다)\n",
    "##### https://spectrummap.kr/gis/town_radiomap.do?menuNo=300511"
   ]
  },
  {
   "cell_type": "code",
   "execution_count": 1,
   "id": "ac002afc-56b4-4ee7-b437-2603285d4b71",
   "metadata": {},
   "outputs": [],
   "source": [
    "# 패키지 임포트\n",
    "import requests\n",
    "import pandas as pd\n",
    "import json\n",
    "import re\n",
    "import os\n",
    "\n",
    "import warnings\n",
    "warnings.filterwarnings('ignore')"
   ]
  },
  {
   "cell_type": "code",
   "execution_count": 3,
   "id": "788f29f1-a515-45f7-9f71-bd016b64f8fe",
   "metadata": {},
   "outputs": [],
   "source": [
    "# 경위도 좌표치환 메서드\n",
    "def dms_to_decimal(degrees, minutes, seconds):\n",
    "    return degrees + (minutes / 60) + (seconds / 3600)\n",
    "\n",
    "# 문자열에서 도, 분, 초를 추출하는 함수\n",
    "def parse_dms(dms_str):\n",
    "    # 정규식을 이용해 DMS 문자열에서 도, 분, 초를 추출\n",
    "    match = re.match(r\"(\\d+)° (\\d+)' (\\d+\\.?\\d*)\\\"\", dms_str)\n",
    "    if match:\n",
    "        degrees = int(match.group(1))\n",
    "        minutes = int(match.group(2))\n",
    "        seconds = float(match.group(3))\n",
    "        return dms_to_decimal(degrees, minutes, seconds)\n",
    "    else:\n",
    "        return None"
   ]
  },
  {
   "cell_type": "markdown",
   "id": "cb48e197-d807-4d80-b70c-439d66a86b97",
   "metadata": {},
   "source": [
    "### 1. openAPI 예시코드 (전체 데이터를 받을 수 없습니다. 웹에서 원본 데이터 받으세요)"
   ]
  },
  {
   "cell_type": "code",
   "execution_count": 30,
   "id": "ae627827-0366-4a68-bbb2-cb55d16420f7",
   "metadata": {},
   "outputs": [],
   "source": [
    "# 마을방송 무선국 정보 API\n",
    "url = 'https://spectrummap.kr/openapiNew.do?'\n",
    "\n",
    "key = ''\n",
    "\n",
    "# 요청 헤더에 User-Agent 추가\n",
    "headers = {\n",
    "    'User-Agent': 'Mozilla/5.0 (Windows NT 10.0; Win64; x64) AppleWebKit/537.36 (KHTML, like Gecko) Chrome/91.0.4472.124 Safari/537.36'\n",
    "}\n",
    "\n",
    "params = {\n",
    "    'key': key,  # 인증키 / 필수값\n",
    "    'searchId': '05', # 호출서비스구분 / 필수값\n",
    "    'type' : 'json', # 데이터타입\n",
    "    #'pIndex': '', # 페이지위치 \n",
    "    #'pSize': '', # 페이지당요청숫자\n",
    "    'SIDO' : '46', # 시도코드 2자리 / 필수값\n",
    "    'SIGUN' : '170', # 시군구코드 3자리 / 필수값\n",
    "    'QUERY': 'ALL' # 주파수구분 - D1~D10, A1~A5, ALL\n",
    "}\n",
    "\n",
    "response = requests.get(url, params=params, headers=headers)\n",
    "json_str = response.content.decode('utf-8')\n",
    "json_object = json.loads(json_str)\n",
    "df = pd.DataFrame(json_object['RESULT'])"
   ]
  },
  {
   "cell_type": "code",
   "execution_count": 35,
   "id": "efcb0ba9-6e3f-45cf-84dd-faba9b181841",
   "metadata": {
    "scrolled": true
   },
   "outputs": [],
   "source": [
    "# 컬럼명 변경 (기존 컬럼명 -> 새로운 컬럼명)\n",
    "df = df.rename(columns={\n",
    "    'CUS_FLN': '시설자명',\n",
    "    'FRQ_HZ': '주파수(MHz)',\n",
    "    'RNUM': '번호',\n",
    "    'RDS_PMS_NO': '허가번호',\n",
    "    'RDS_CLL_NM': '호출명칭',\n",
    "    'EMDG_CD': '전파형식코드',\n",
    "    'LON': '경도',\n",
    "    'RDS_TRS_ADR': '주소(설치장소)',\n",
    "    'LAT': '위도'\n",
    "})\n",
    "\n",
    "# 컬럼 순서 변경 (배치 순서대로 변경)\n",
    "new_column_order = [\n",
    "    '허가번호',        # 1\n",
    "    '호출명칭',        # 2\n",
    "    '시설자명',        # 3\n",
    "    '전파형식코드',    # 4\n",
    "    '주파수(MHz)',          # 5\n",
    "    '주소(설치장소)',  # 6\n",
    "    '경도',            # 7\n",
    "    '위도'             # 8\n",
    "]\n",
    "\n",
    "# 데이터프레임을 새로운 컬럼 순서로 재정렬\n",
    "df = df[new_column_order]"
   ]
  },
  {
   "cell_type": "code",
   "execution_count": 40,
   "id": "512c6278-1f3f-407c-b4ae-e3242f692c18",
   "metadata": {},
   "outputs": [],
   "source": [
    "df['위도좌표'] = df['위도'].apply(parse_dms)\n",
    "df['경도좌표'] = df['경도'].apply(parse_dms)"
   ]
  },
  {
   "cell_type": "markdown",
   "id": "e0a16752-decb-440e-aa83-86686d547ef1",
   "metadata": {},
   "source": [
    "# ======================================"
   ]
  },
  {
   "cell_type": "markdown",
   "id": "6603eaa6-99f8-4c80-8a15-e8d8d25f1c30",
   "metadata": {},
   "source": [
    "### 2. 웹에서 직접 받은 후 가공 - O\n",
    "##### 1) 웹에서 시도별 마을방송 무선국 데이터를 받습니다\n",
    "##### 2) 파일을 병합합니다\n",
    "##### 3) 데이터를 가공합니다 (전처리, preprocessing)"
   ]
  },
  {
   "cell_type": "code",
   "execution_count": 26,
   "id": "58294397-d56d-4845-befc-fa95b6f0fa4a",
   "metadata": {},
   "outputs": [],
   "source": [
    "# 시도별 마을방송 무선국 파일이 들어있는 장소\n",
    "folder_path = '원본데이터'\n",
    "\n",
    "# 엑셀 파일만 필터링\n",
    "excel_files = [f for f in os.listdir(folder_path) if f.endswith('.xls') or f.endswith('.xlsx')]\n",
    "\n",
    "# 모든 엑셀 파일을 읽어서 하나의 데이터프레임으로 합치기\n",
    "df_list = []  # 여러 데이터프레임을 저장할 리스트\n",
    "\n",
    "# 각 엑셀 파일을 판다스로 읽어들여 리스트에 추가\n",
    "for file in excel_files:\n",
    "    file_path = os.path.join(folder_path, file)  # 파일 경로 완성\n",
    "    df = pd.read_excel(file_path)  # 엑셀 파일을 읽어서 DataFrame으로 변환\n",
    "    df_list.append(df)  # 읽은 DataFrame을 리스트에 추가\n",
    "\n",
    "# 모든 데이터프레임을 하나로 합치기 (기본적으로 행 단위로 합침)\n",
    "df = pd.concat(df_list, ignore_index=True)"
   ]
  },
  {
   "cell_type": "code",
   "execution_count": 28,
   "id": "ec6dc35e-9730-4d64-b959-658fcf7376b6",
   "metadata": {},
   "outputs": [],
   "source": [
    "# 위경도좌표 십진수변환\n",
    "df['위도'] = df['위도'].apply(parse_dms)\n",
    "df['경도'] = df['경도'].apply(parse_dms)"
   ]
  },
  {
   "cell_type": "code",
   "execution_count": 30,
   "id": "c7bee377-7eb6-4258-ad6b-90c361c6bb7d",
   "metadata": {},
   "outputs": [],
   "source": [
    "# '설치장소' 컬럼에서 >> '시도' '시군구' 추출\n",
    "def split_address(address):\n",
    "    try:\n",
    "        words = address.split()  # 공백을 기준으로 단어를 분리\n",
    "        \n",
    "        # words가 3개 이상인 경우만 처리\n",
    "        if len(words) >= 3:\n",
    "            # 3번째 단어 (인덱스 2) 검사: 끝이 '시', '군', '구'가 아니면 None\n",
    "            if not (words[2].endswith('시') or words[2].endswith('군') or words[2].endswith('구')):\n",
    "                words[2] = None\n",
    "        \n",
    "        # 반환값: '시도', '시군구1', '시군구2' (세 번째 단어는 None일 수 있음)\n",
    "        return pd.Series([words[0], words[1], words[2] if len(words) > 2 else None])\n",
    "    \n",
    "    except Exception as e:\n",
    "        print(f\"Error processing address: {address} \\nError: {e}\")\n",
    "        # 결과가 제대로 추출되지 않았으면 None으로 반환\n",
    "        return pd.Series([None, None, None])"
   ]
  },
  {
   "cell_type": "code",
   "execution_count": 32,
   "id": "e2198fbc-63de-4efd-8760-ebc6fc639448",
   "metadata": {},
   "outputs": [
    {
     "name": "stdout",
     "output_type": "stream",
     "text": [
      "Error processing address: nan \n",
      "Error: 'float' object has no attribute 'split'\n",
      "Error processing address: nan \n",
      "Error: 'float' object has no attribute 'split'\n"
     ]
    }
   ],
   "source": [
    "df[['시도', '시군구1', '시군구2']] = df['설치장소'].apply(split_address)"
   ]
  },
  {
   "cell_type": "code",
   "execution_count": 34,
   "id": "63f66990-13ef-4caa-93a9-7c6c17eeb30f",
   "metadata": {
    "scrolled": true
   },
   "outputs": [],
   "source": [
    "df.drop_duplicates(subset='허가번호', inplace=True)"
   ]
  },
  {
   "cell_type": "code",
   "execution_count": 80,
   "id": "2b47d2c0-2ebb-4074-a91c-abff4ae776b7",
   "metadata": {},
   "outputs": [],
   "source": [
    "df['시군구'] = df['시군구1'].fillna('').astype(str) + \" \" + df['시군구2'].fillna('').astype(str)"
   ]
  },
  {
   "cell_type": "code",
   "execution_count": 86,
   "id": "91fa84f6-04ac-41d6-98c1-089ac2c899c8",
   "metadata": {},
   "outputs": [],
   "source": [
    "# 불필요한 컬럼 제거\n",
    "df = df.drop(['순번', '시군구1', '시군구2'], axis = 1)"
   ]
  },
  {
   "cell_type": "code",
   "execution_count": 88,
   "id": "77e2a659-00a1-4a1f-b57b-a2dcb3ba2545",
   "metadata": {},
   "outputs": [
    {
     "data": {
      "text/plain": [
       "Index(['허가번호', '무선국 호출명', '시설자명', '전파형식코드', '주파수', '설치장소', '위도', '경도', '시도',\n",
       "       '시군구'],\n",
       "      dtype='object')"
      ]
     },
     "execution_count": 88,
     "metadata": {},
     "output_type": "execute_result"
    }
   ],
   "source": [
    "df.columns"
   ]
  },
  {
   "cell_type": "code",
   "execution_count": 92,
   "id": "f286e3a6-5991-4eea-a7a1-af765fd47cb1",
   "metadata": {},
   "outputs": [],
   "source": [
    "df = df[['허가번호', '무선국 호출명', '시설자명', '전파형식코드', '주파수', '설치장소',\n",
    "'시도', '시군구', '위도', '경도']]"
   ]
  },
  {
   "cell_type": "code",
   "execution_count": null,
   "id": "a4c38083-addf-4906-a4d5-b7077d7013e8",
   "metadata": {},
   "outputs": [],
   "source": []
  },
  {
   "cell_type": "code",
   "execution_count": null,
   "id": "8b02623a-f53f-4039-8715-a686948173c0",
   "metadata": {},
   "outputs": [],
   "source": []
  }
 ],
 "metadata": {
  "kernelspec": {
   "display_name": "Python 3 (ipykernel)",
   "language": "python",
   "name": "python3"
  },
  "language_info": {
   "codemirror_mode": {
    "name": "ipython",
    "version": 3
   },
   "file_extension": ".py",
   "mimetype": "text/x-python",
   "name": "python",
   "nbconvert_exporter": "python",
   "pygments_lexer": "ipython3",
   "version": "3.11.9"
  }
 },
 "nbformat": 4,
 "nbformat_minor": 5
}
