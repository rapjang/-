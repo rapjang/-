{
 "cells": [
  {
   "cell_type": "markdown",
   "id": "c8458199-2fe8-4f01-a1b7-f298c78a1c6e",
   "metadata": {},
   "source": [
    "# 산악지역 이동통신 API\n",
    "##### 산악지역(국립공원, 도립공원, 군립공원) 또는 자신의 위치정보를 통해 해당지역에 위치한 이동통신서비스를 목적으로 개설된 무선국 정보를 제공 받을 수 있습니다.\r\n",
    "### 데이터 받는 방법\n",
    "##### 1. openAPI - X (전체 데이터를 받기 어렵다)\n",
    "##### https://spectrummap.kr/cop/bbs/selectBoardArticle.do?menuNo=300588&bbsId=BBSMSTR_000000000172&nttId=14341&menuNo=300510&gubun=1\n",
    "##### 2. 웹에서 직접 받은 후 가공 - O (전체 데이터 받기위해 이 방법이 훨씬 좋다)\n",
    "##### https://spectrummap.kr/gis/nationalpark_service.do?menuNo=3005101¶00511¶"
   ]
  },
  {
   "cell_type": "code",
   "execution_count": 32,
   "id": "17833406-8f1d-40bb-b3c6-93b5669b78bc",
   "metadata": {},
   "outputs": [],
   "source": [
    "# 패키지 임포트\n",
    "import requests\n",
    "import pandas as pd\n",
    "import json\n",
    "import re\n",
    "import os\n",
    "\n",
    "import warnings\n",
    "warnings.filterwarnings('ignore')"
   ]
  },
  {
   "cell_type": "code",
   "execution_count": 26,
   "id": "820892b3-d0cd-4323-a9d0-fd1956a066a3",
   "metadata": {},
   "outputs": [],
   "source": [
    "# 경위도 좌표치환 메서드\n",
    "def dms_to_decimal(degrees, minutes, seconds):\n",
    "    return degrees + (minutes / 60) + (seconds / 3600)\n",
    "\n",
    "# 문자열에서 도, 분, 초를 추출하는 함수\n",
    "def parse_dms(dms_str):\n",
    "    # 정규식을 이용해 DMS 문자열에서 도, 분, 초를 추출\n",
    "    match = re.match(r\"(\\d+)° (\\d+)' (\\d+\\.?\\d*)\\\"\", dms_str)\n",
    "    if match:\n",
    "        degrees = int(match.group(1))\n",
    "        minutes = int(match.group(2))\n",
    "        seconds = float(match.group(3))\n",
    "        return dms_to_decimal(degrees, minutes, seconds)\n",
    "    else:\n",
    "        return None"
   ]
  },
  {
   "cell_type": "markdown",
   "id": "716e8d14-f2ca-4b34-9553-5281791af836",
   "metadata": {},
   "source": [
    "### 1. openAPI 예시코드 (전체 데이터를 받을 수 없습니다. 웹에서 원본 데이터 받으세요)"
   ]
  },
  {
   "cell_type": "code",
   "execution_count": null,
   "id": "cab997b3-3b42-4486-b15e-1d23892a4d90",
   "metadata": {},
   "outputs": [],
   "source": [
    "# 산악지역 이동통신 API\n",
    "url = 'https://spectrummap.kr/openapiNew.do?'\n",
    "\n",
    "# 요청 헤더에 User-Agent 추가\n",
    "headers = {\n",
    "    'User-Agent': 'Mozilla/5.0 (Windows NT 10.0; Win64; x64) AppleWebKit/537.36 (KHTML, like Gecko) Chrome/91.0.4472.124 Safari/537.36'\n",
    "}\n",
    "\n",
    "key = ''\n",
    "params = {\n",
    "    'key': key,  # 인증키 / 필수값\n",
    "    'searchId': '07', # 호출서비스구분 / 필수값\n",
    "    'type':'json', # 데이터타입\n",
    "    'pIndex': '1', # 페이지위치 \n",
    "    'pSize': '1000', # 페이지당요청숫자\n",
    "    'SCH_CD' : 'MOBILE', # 검색구분 : MOBILE(기지국정보) / 필수값\n",
    "    'PARK_CD' : '1', # 공원구분 : 1(국립공원), 2(도립공원), 3(군립공원) / 필수값\n",
    "    'QUERY': '북한산', # 공원명 : 공원명 or ALL / 필수값\n",
    "    'CUS_CD' : 'ALL', # 시설자 구분 : SK, KT, LG, ALL\n",
    "    'SERVICE_CD' : 'ALL', # 서비스 구분 : 2G, 3G, 4G, 5G, ALL\n",
    "    #'RSCP_PW' : 'ALL' # \n",
    "}\n",
    "\n",
    "response = requests.get(url, params=params, headers=headers)\n",
    "json_str = response.content.decode('utf-8')\n",
    "json_object = json.loads(json_str)"
   ]
  },
  {
   "cell_type": "code",
   "execution_count": null,
   "id": "31489e13-1b19-4e9f-b332-4f76b75a3c55",
   "metadata": {},
   "outputs": [],
   "source": [
    "df = pd.DataFrame(json_object['RESULT'])\n",
    "\n",
    "# 컬럼명 변경 매핑\n",
    "column_mapping = {\n",
    "    'SERVICE_NAME': '용도',\n",
    "    'RNUM': '번호',\n",
    "    'EQM_CNT': '장치수',\n",
    "    'RDS_PMS_NO': '허가번호',\n",
    "    'ARW_GAN_NMV': '출력(W)',\n",
    "    'GND_ALTD_HET': '지상고',\n",
    "    'EXPS_ALTD_HET': '노출고',\n",
    "    'LON': '경도',\n",
    "    'ALT_ALTD_HET': '해발고',\n",
    "    'RDS_TRS_ADR': '주소(설치장소)',\n",
    "    'LAT': '위도',\n",
    "    'ARW_FORM_CD': '안테나설치형태'\n",
    "}\n",
    "\n",
    "# 컬럼명 변경\n",
    "df = df.rename(columns=column_mapping)\n",
    "\n",
    "# 컬럼 순서 변경 (숫자에 맞게 정렬)\n",
    "desired_order = [\n",
    "    '허가번호',         # 1\n",
    "    '주소(설치장소)',   # 2\n",
    "    '용도',             # 3\n",
    "    '장치수',           # 4\n",
    "    '경도',             # 5\n",
    "    '위도',             # 6\n",
    "    '출력(W)',          # 7\n",
    "    '안테나설치형태',    # 8\n",
    "    '노출고',           # 9\n",
    "    '지상고',           # 10\n",
    "    '해발고'            # 11\n",
    "]\n",
    "\n",
    "# 컬럼 순서 변경\n",
    "df = df[desired_order]\n",
    "\n",
    "# 불필요한 문자 제거\n",
    "df['안테나설치형태'] = df['안테나설치형태'].apply(lambda x: str(x).strip('\\r\\n\\t ') if isinstance(x, str) else x)"
   ]
  },
  {
   "cell_type": "markdown",
   "id": "7bd8571b-f411-47ba-9ca3-8abeb6e209af",
   "metadata": {},
   "source": [
    "# ======================================"
   ]
  },
  {
   "cell_type": "markdown",
   "id": "1cc3cd8c-2685-4d3f-80a0-0cb131bb566f",
   "metadata": {},
   "source": [
    "### 2. 웹에서 직접 받은 후 가공 - O\n",
    "##### 1) 웹에서 공원별 산악지역 이동통신 무선국 데이터를 받습니다\n",
    "##### 2) 파일을 병합합니다\n",
    "##### 3) 데이터를 가공합니다 (전처리, preprocessing)"
   ]
  },
  {
   "cell_type": "code",
   "execution_count": 8,
   "id": "59bfe75c-c1eb-41d3-ab06-b15707111914",
   "metadata": {},
   "outputs": [],
   "source": [
    "import os\n",
    "import pandas as pd"
   ]
  },
  {
   "cell_type": "code",
   "execution_count": 12,
   "id": "a2f7670c-46b7-41b6-872a-b4c10f734992",
   "metadata": {},
   "outputs": [],
   "source": [
    "# 산악지역 이동통신 무선국 데이터가들어있는 폴더\n",
    "folder_path = '원본데이터'\n",
    "\n",
    "# 엑셀 파일만 필터링\n",
    "excel_files = [f for f in os.listdir(folder_path) if f.endswith('.xls') or f.endswith('.xlsx')]"
   ]
  },
  {
   "cell_type": "code",
   "execution_count": 14,
   "id": "d591f994-2347-4221-b2b2-444aaea5592c",
   "metadata": {},
   "outputs": [],
   "source": [
    "# 모든 엑셀 파일을 읽어서 하나의 데이터프레임으로 합치기\n",
    "df_list = []  # 여러 데이터프레임을 저장할 리스트\n",
    "\n",
    "# 각 엑셀 파일을 판다스로 읽어들여 리스트에 추가\n",
    "for file in excel_files:\n",
    "    file_path = os.path.join(folder_path, file)  # 파일 경로 완성\n",
    "    df = pd.read_excel(file_path)  # 엑셀 파일을 읽어서 DataFrame으로 변환\n",
    "    df_list.append(df)  # 읽은 DataFrame을 리스트에 추가\n",
    "\n",
    "# 모든 데이터프레임을 하나로 합치기 (기본적으로 행 단위로 합침)\n",
    "final_df = pd.concat(df_list, ignore_index=True)"
   ]
  },
  {
   "cell_type": "code",
   "execution_count": 16,
   "id": "88a3f29e-1d84-4203-b569-2e6a411ac5ec",
   "metadata": {},
   "outputs": [],
   "source": [
    "final_df['허가연도'] = final_df['허가번호'].astype(str).apply(lambda x: x[2:6])"
   ]
  },
  {
   "cell_type": "code",
   "execution_count": 34,
   "id": "52dbdf45-ca03-4746-9575-7205b3f5da4c",
   "metadata": {},
   "outputs": [],
   "source": [
    "# 위경도좌표 십진수변환\n",
    "final_df['위도'] = final_df['위도'].apply(parse_dms)\n",
    "final_df['경도'] = final_df['경도'].apply(parse_dms)"
   ]
  },
  {
   "cell_type": "code",
   "execution_count": 20,
   "id": "f08982ea-2460-4bf8-8c89-f61dec75a590",
   "metadata": {},
   "outputs": [],
   "source": [
    "# 컬럼 순서 변경 (배치 순서대로 변경)\n",
    "new_column_order = [\n",
    "    '구분',        \n",
    "    '이름',\n",
    "    '허가번호',\n",
    "    '허가연도',\n",
    "    '시설자명',\n",
    "    '설치장소',\n",
    "    '용도',\n",
    "    '장치개수',\n",
    "    '주파수(MHz)',\n",
    "    '출력(W)',\n",
    "    '안테나설치형태',\n",
    "    '대표이득',\n",
    "    '해발고',\n",
    "    '지상고',\n",
    "    '노출고',\n",
    "    '위도',\n",
    "    '경도'\n",
    "]\n",
    "\n",
    "# 데이터프레임을 새로운 컬럼 순서로 재정렬\n",
    "final_df = final_df[new_column_order]"
   ]
  },
  {
   "cell_type": "code",
   "execution_count": 22,
   "id": "bbad7565-5096-4eda-80ac-f1686e8386ed",
   "metadata": {},
   "outputs": [],
   "source": [
    "final_df.sort_values(by = ['구분', '이름', '허가번호'], ascending=True, inplace=True)"
   ]
  },
  {
   "cell_type": "code",
   "execution_count": 36,
   "id": "abecc2e1-404d-4de1-9d5c-e4510c97c0e6",
   "metadata": {},
   "outputs": [],
   "source": [
    "final_df.to_excel('산악지역이동통신무선국.xlsx', index=None)"
   ]
  },
  {
   "cell_type": "code",
   "execution_count": 38,
   "id": "dd5351bb-b247-49bf-ac3f-10079fb8a051",
   "metadata": {},
   "outputs": [
    {
     "data": {
      "text/plain": [
       "구분             0\n",
       "이름             0\n",
       "허가번호           0\n",
       "허가연도           0\n",
       "시설자명          44\n",
       "설치장소           0\n",
       "용도             0\n",
       "장치개수           0\n",
       "주파수(MHz)    2325\n",
       "출력(W)       2325\n",
       "안테나설치형태     1080\n",
       "대표이득          57\n",
       "해발고           87\n",
       "지상고          791\n",
       "노출고         1685\n",
       "위도             0\n",
       "경도             0\n",
       "dtype: int64"
      ]
     },
     "execution_count": 38,
     "metadata": {},
     "output_type": "execute_result"
    }
   ],
   "source": [
    "final_df.isnull().sum()"
   ]
  },
  {
   "cell_type": "code",
   "execution_count": 42,
   "id": "3819c807-6c26-40b7-b5fe-c66a4da08146",
   "metadata": {},
   "outputs": [
    {
     "name": "stdout",
     "output_type": "stream",
     "text": [
      "허가번호 중복값 제거 전 행 개수 :  14406\n",
      "허가번호 중복값 제거 후 행 개수 :  14406\n"
     ]
    }
   ],
   "source": [
    "# '허가번호' 컬럼 중복값 개수 확인 >> 중복값 없음\n",
    "print('허가번호 중복값 제거 전 행 개수 : ', len(f))\n",
    "print('허가번호 중복값 제거 후 행 개수 : ', len(f.drop_duplicates(subset='허가번호')))"
   ]
  },
  {
   "cell_type": "code",
   "execution_count": null,
   "id": "3f58ac0d-2322-4e2e-8110-66af1f0edb09",
   "metadata": {},
   "outputs": [],
   "source": []
  },
  {
   "cell_type": "markdown",
   "id": "761177fd-0b4a-4042-a335-f955e6ba55c6",
   "metadata": {},
   "source": [
    "### 집계"
   ]
  },
  {
   "cell_type": "code",
   "execution_count": 84,
   "id": "8afd04c3-aba0-4d0f-8f7b-e7d5d3d62aab",
   "metadata": {},
   "outputs": [],
   "source": [
    "# 집계를 위한 컬럼 추가\n",
    "df['cnt'] = 1"
   ]
  },
  {
   "cell_type": "code",
   "execution_count": 104,
   "id": "54f76b3e-0687-449a-aebf-5a391454b340",
   "metadata": {},
   "outputs": [],
   "source": [
    "pie = df.groupby(by = '시설자명', as_index=False)['cnt'].sum()\\\n",
    ".rename(columns={'cnt':'합계'}).sort_values(by = '합계', ascending = False).reset_index(drop=True)"
   ]
  },
  {
   "cell_type": "code",
   "execution_count": 106,
   "id": "174b0d9d-a106-4afa-a4bf-2cf97b996d9e",
   "metadata": {},
   "outputs": [],
   "source": [
    "# 패키지 임포트\n",
    "import plotly.express as px\n",
    "import plotly.graph_objects as go"
   ]
  },
  {
   "cell_type": "code",
   "execution_count": 316,
   "id": "10a6f2e4-2d0b-4936-b30d-7a0c15b734e9",
   "metadata": {
    "scrolled": true
   },
   "outputs": [
    {
     "data": {
      "application/vnd.plotly.v1+json": {
       "config": {
        "plotlyServerURL": "https://plot.ly"
       },
       "data": [
        {
         "hole": 0.3,
         "hoverinfo": "label+value",
         "labels": [
          "SKT",
          "KT",
          "LG U plus"
         ],
         "marker": {
          "colors": [
           "#7F5CE6",
           "#ED2024",
           "#EC008B"
          ],
          "line": {
           "color": "#000000",
           "width": 2
          }
         },
         "textfont": {
          "size": 20
         },
         "textinfo": "percent",
         "type": "pie",
         "values": [
          6141,
          4624,
          3597
         ]
        }
       ],
       "layout": {
        "annotations": [
         {
          "font": {
           "family": "Gulim",
           "size": 20
          },
          "showarrow": false,
          "text": "산악지역<br>무선국<br>통신사",
          "x": 0.5,
          "xanchor": "center",
          "y": 0.5,
          "yanchor": "middle"
         }
        ],
        "height": 600,
        "legend": {
         "font": {
          "color": "black",
          "family": "Gulim",
          "size": 20
         },
         "orientation": "v",
         "traceorder": "normal",
         "x": 0.9,
         "y": 0.9
        },
        "template": {
         "data": {
          "bar": [
           {
            "error_x": {
             "color": "#2a3f5f"
            },
            "error_y": {
             "color": "#2a3f5f"
            },
            "marker": {
             "line": {
              "color": "#E5ECF6",
              "width": 0.5
             },
             "pattern": {
              "fillmode": "overlay",
              "size": 10,
              "solidity": 0.2
             }
            },
            "type": "bar"
           }
          ],
          "barpolar": [
           {
            "marker": {
             "line": {
              "color": "#E5ECF6",
              "width": 0.5
             },
             "pattern": {
              "fillmode": "overlay",
              "size": 10,
              "solidity": 0.2
             }
            },
            "type": "barpolar"
           }
          ],
          "carpet": [
           {
            "aaxis": {
             "endlinecolor": "#2a3f5f",
             "gridcolor": "white",
             "linecolor": "white",
             "minorgridcolor": "white",
             "startlinecolor": "#2a3f5f"
            },
            "baxis": {
             "endlinecolor": "#2a3f5f",
             "gridcolor": "white",
             "linecolor": "white",
             "minorgridcolor": "white",
             "startlinecolor": "#2a3f5f"
            },
            "type": "carpet"
           }
          ],
          "choropleth": [
           {
            "colorbar": {
             "outlinewidth": 0,
             "ticks": ""
            },
            "type": "choropleth"
           }
          ],
          "contour": [
           {
            "colorbar": {
             "outlinewidth": 0,
             "ticks": ""
            },
            "colorscale": [
             [
              0,
              "#0d0887"
             ],
             [
              0.1111111111111111,
              "#46039f"
             ],
             [
              0.2222222222222222,
              "#7201a8"
             ],
             [
              0.3333333333333333,
              "#9c179e"
             ],
             [
              0.4444444444444444,
              "#bd3786"
             ],
             [
              0.5555555555555556,
              "#d8576b"
             ],
             [
              0.6666666666666666,
              "#ed7953"
             ],
             [
              0.7777777777777778,
              "#fb9f3a"
             ],
             [
              0.8888888888888888,
              "#fdca26"
             ],
             [
              1,
              "#f0f921"
             ]
            ],
            "type": "contour"
           }
          ],
          "contourcarpet": [
           {
            "colorbar": {
             "outlinewidth": 0,
             "ticks": ""
            },
            "type": "contourcarpet"
           }
          ],
          "heatmap": [
           {
            "colorbar": {
             "outlinewidth": 0,
             "ticks": ""
            },
            "colorscale": [
             [
              0,
              "#0d0887"
             ],
             [
              0.1111111111111111,
              "#46039f"
             ],
             [
              0.2222222222222222,
              "#7201a8"
             ],
             [
              0.3333333333333333,
              "#9c179e"
             ],
             [
              0.4444444444444444,
              "#bd3786"
             ],
             [
              0.5555555555555556,
              "#d8576b"
             ],
             [
              0.6666666666666666,
              "#ed7953"
             ],
             [
              0.7777777777777778,
              "#fb9f3a"
             ],
             [
              0.8888888888888888,
              "#fdca26"
             ],
             [
              1,
              "#f0f921"
             ]
            ],
            "type": "heatmap"
           }
          ],
          "heatmapgl": [
           {
            "colorbar": {
             "outlinewidth": 0,
             "ticks": ""
            },
            "colorscale": [
             [
              0,
              "#0d0887"
             ],
             [
              0.1111111111111111,
              "#46039f"
             ],
             [
              0.2222222222222222,
              "#7201a8"
             ],
             [
              0.3333333333333333,
              "#9c179e"
             ],
             [
              0.4444444444444444,
              "#bd3786"
             ],
             [
              0.5555555555555556,
              "#d8576b"
             ],
             [
              0.6666666666666666,
              "#ed7953"
             ],
             [
              0.7777777777777778,
              "#fb9f3a"
             ],
             [
              0.8888888888888888,
              "#fdca26"
             ],
             [
              1,
              "#f0f921"
             ]
            ],
            "type": "heatmapgl"
           }
          ],
          "histogram": [
           {
            "marker": {
             "pattern": {
              "fillmode": "overlay",
              "size": 10,
              "solidity": 0.2
             }
            },
            "type": "histogram"
           }
          ],
          "histogram2d": [
           {
            "colorbar": {
             "outlinewidth": 0,
             "ticks": ""
            },
            "colorscale": [
             [
              0,
              "#0d0887"
             ],
             [
              0.1111111111111111,
              "#46039f"
             ],
             [
              0.2222222222222222,
              "#7201a8"
             ],
             [
              0.3333333333333333,
              "#9c179e"
             ],
             [
              0.4444444444444444,
              "#bd3786"
             ],
             [
              0.5555555555555556,
              "#d8576b"
             ],
             [
              0.6666666666666666,
              "#ed7953"
             ],
             [
              0.7777777777777778,
              "#fb9f3a"
             ],
             [
              0.8888888888888888,
              "#fdca26"
             ],
             [
              1,
              "#f0f921"
             ]
            ],
            "type": "histogram2d"
           }
          ],
          "histogram2dcontour": [
           {
            "colorbar": {
             "outlinewidth": 0,
             "ticks": ""
            },
            "colorscale": [
             [
              0,
              "#0d0887"
             ],
             [
              0.1111111111111111,
              "#46039f"
             ],
             [
              0.2222222222222222,
              "#7201a8"
             ],
             [
              0.3333333333333333,
              "#9c179e"
             ],
             [
              0.4444444444444444,
              "#bd3786"
             ],
             [
              0.5555555555555556,
              "#d8576b"
             ],
             [
              0.6666666666666666,
              "#ed7953"
             ],
             [
              0.7777777777777778,
              "#fb9f3a"
             ],
             [
              0.8888888888888888,
              "#fdca26"
             ],
             [
              1,
              "#f0f921"
             ]
            ],
            "type": "histogram2dcontour"
           }
          ],
          "mesh3d": [
           {
            "colorbar": {
             "outlinewidth": 0,
             "ticks": ""
            },
            "type": "mesh3d"
           }
          ],
          "parcoords": [
           {
            "line": {
             "colorbar": {
              "outlinewidth": 0,
              "ticks": ""
             }
            },
            "type": "parcoords"
           }
          ],
          "pie": [
           {
            "automargin": true,
            "type": "pie"
           }
          ],
          "scatter": [
           {
            "fillpattern": {
             "fillmode": "overlay",
             "size": 10,
             "solidity": 0.2
            },
            "type": "scatter"
           }
          ],
          "scatter3d": [
           {
            "line": {
             "colorbar": {
              "outlinewidth": 0,
              "ticks": ""
             }
            },
            "marker": {
             "colorbar": {
              "outlinewidth": 0,
              "ticks": ""
             }
            },
            "type": "scatter3d"
           }
          ],
          "scattercarpet": [
           {
            "marker": {
             "colorbar": {
              "outlinewidth": 0,
              "ticks": ""
             }
            },
            "type": "scattercarpet"
           }
          ],
          "scattergeo": [
           {
            "marker": {
             "colorbar": {
              "outlinewidth": 0,
              "ticks": ""
             }
            },
            "type": "scattergeo"
           }
          ],
          "scattergl": [
           {
            "marker": {
             "colorbar": {
              "outlinewidth": 0,
              "ticks": ""
             }
            },
            "type": "scattergl"
           }
          ],
          "scattermapbox": [
           {
            "marker": {
             "colorbar": {
              "outlinewidth": 0,
              "ticks": ""
             }
            },
            "type": "scattermapbox"
           }
          ],
          "scatterpolar": [
           {
            "marker": {
             "colorbar": {
              "outlinewidth": 0,
              "ticks": ""
             }
            },
            "type": "scatterpolar"
           }
          ],
          "scatterpolargl": [
           {
            "marker": {
             "colorbar": {
              "outlinewidth": 0,
              "ticks": ""
             }
            },
            "type": "scatterpolargl"
           }
          ],
          "scatterternary": [
           {
            "marker": {
             "colorbar": {
              "outlinewidth": 0,
              "ticks": ""
             }
            },
            "type": "scatterternary"
           }
          ],
          "surface": [
           {
            "colorbar": {
             "outlinewidth": 0,
             "ticks": ""
            },
            "colorscale": [
             [
              0,
              "#0d0887"
             ],
             [
              0.1111111111111111,
              "#46039f"
             ],
             [
              0.2222222222222222,
              "#7201a8"
             ],
             [
              0.3333333333333333,
              "#9c179e"
             ],
             [
              0.4444444444444444,
              "#bd3786"
             ],
             [
              0.5555555555555556,
              "#d8576b"
             ],
             [
              0.6666666666666666,
              "#ed7953"
             ],
             [
              0.7777777777777778,
              "#fb9f3a"
             ],
             [
              0.8888888888888888,
              "#fdca26"
             ],
             [
              1,
              "#f0f921"
             ]
            ],
            "type": "surface"
           }
          ],
          "table": [
           {
            "cells": {
             "fill": {
              "color": "#EBF0F8"
             },
             "line": {
              "color": "white"
             }
            },
            "header": {
             "fill": {
              "color": "#C8D4E3"
             },
             "line": {
              "color": "white"
             }
            },
            "type": "table"
           }
          ]
         },
         "layout": {
          "annotationdefaults": {
           "arrowcolor": "#2a3f5f",
           "arrowhead": 0,
           "arrowwidth": 1
          },
          "autotypenumbers": "strict",
          "coloraxis": {
           "colorbar": {
            "outlinewidth": 0,
            "ticks": ""
           }
          },
          "colorscale": {
           "diverging": [
            [
             0,
             "#8e0152"
            ],
            [
             0.1,
             "#c51b7d"
            ],
            [
             0.2,
             "#de77ae"
            ],
            [
             0.3,
             "#f1b6da"
            ],
            [
             0.4,
             "#fde0ef"
            ],
            [
             0.5,
             "#f7f7f7"
            ],
            [
             0.6,
             "#e6f5d0"
            ],
            [
             0.7,
             "#b8e186"
            ],
            [
             0.8,
             "#7fbc41"
            ],
            [
             0.9,
             "#4d9221"
            ],
            [
             1,
             "#276419"
            ]
           ],
           "sequential": [
            [
             0,
             "#0d0887"
            ],
            [
             0.1111111111111111,
             "#46039f"
            ],
            [
             0.2222222222222222,
             "#7201a8"
            ],
            [
             0.3333333333333333,
             "#9c179e"
            ],
            [
             0.4444444444444444,
             "#bd3786"
            ],
            [
             0.5555555555555556,
             "#d8576b"
            ],
            [
             0.6666666666666666,
             "#ed7953"
            ],
            [
             0.7777777777777778,
             "#fb9f3a"
            ],
            [
             0.8888888888888888,
             "#fdca26"
            ],
            [
             1,
             "#f0f921"
            ]
           ],
           "sequentialminus": [
            [
             0,
             "#0d0887"
            ],
            [
             0.1111111111111111,
             "#46039f"
            ],
            [
             0.2222222222222222,
             "#7201a8"
            ],
            [
             0.3333333333333333,
             "#9c179e"
            ],
            [
             0.4444444444444444,
             "#bd3786"
            ],
            [
             0.5555555555555556,
             "#d8576b"
            ],
            [
             0.6666666666666666,
             "#ed7953"
            ],
            [
             0.7777777777777778,
             "#fb9f3a"
            ],
            [
             0.8888888888888888,
             "#fdca26"
            ],
            [
             1,
             "#f0f921"
            ]
           ]
          },
          "colorway": [
           "#636efa",
           "#EF553B",
           "#00cc96",
           "#ab63fa",
           "#FFA15A",
           "#19d3f3",
           "#FF6692",
           "#B6E880",
           "#FF97FF",
           "#FECB52"
          ],
          "font": {
           "color": "#2a3f5f"
          },
          "geo": {
           "bgcolor": "white",
           "lakecolor": "white",
           "landcolor": "#E5ECF6",
           "showlakes": true,
           "showland": true,
           "subunitcolor": "white"
          },
          "hoverlabel": {
           "align": "left"
          },
          "hovermode": "closest",
          "mapbox": {
           "style": "light"
          },
          "paper_bgcolor": "white",
          "plot_bgcolor": "#E5ECF6",
          "polar": {
           "angularaxis": {
            "gridcolor": "white",
            "linecolor": "white",
            "ticks": ""
           },
           "bgcolor": "#E5ECF6",
           "radialaxis": {
            "gridcolor": "white",
            "linecolor": "white",
            "ticks": ""
           }
          },
          "scene": {
           "xaxis": {
            "backgroundcolor": "#E5ECF6",
            "gridcolor": "white",
            "gridwidth": 2,
            "linecolor": "white",
            "showbackground": true,
            "ticks": "",
            "zerolinecolor": "white"
           },
           "yaxis": {
            "backgroundcolor": "#E5ECF6",
            "gridcolor": "white",
            "gridwidth": 2,
            "linecolor": "white",
            "showbackground": true,
            "ticks": "",
            "zerolinecolor": "white"
           },
           "zaxis": {
            "backgroundcolor": "#E5ECF6",
            "gridcolor": "white",
            "gridwidth": 2,
            "linecolor": "white",
            "showbackground": true,
            "ticks": "",
            "zerolinecolor": "white"
           }
          },
          "shapedefaults": {
           "line": {
            "color": "#2a3f5f"
           }
          },
          "ternary": {
           "aaxis": {
            "gridcolor": "white",
            "linecolor": "white",
            "ticks": ""
           },
           "baxis": {
            "gridcolor": "white",
            "linecolor": "white",
            "ticks": ""
           },
           "bgcolor": "#E5ECF6",
           "caxis": {
            "gridcolor": "white",
            "linecolor": "white",
            "ticks": ""
           }
          },
          "title": {
           "x": 0.05
          },
          "xaxis": {
           "automargin": true,
           "gridcolor": "white",
           "linecolor": "white",
           "ticks": "",
           "title": {
            "standoff": 15
           },
           "zerolinecolor": "white",
           "zerolinewidth": 2
          },
          "yaxis": {
           "automargin": true,
           "gridcolor": "white",
           "linecolor": "white",
           "ticks": "",
           "title": {
            "standoff": 15
           },
           "zerolinecolor": "white",
           "zerolinewidth": 2
          }
         }
        },
        "title": {
         "font": {
          "color": "black",
          "family": "Gulim",
          "size": 24
         },
         "text": "산악지역 무선국 통신사 비율",
         "x": 0.5,
         "y": 0.9
        },
        "width": 800
       }
      },
      "image/png": "[encoded data removed]",
      "text/html": [
       "<div>                            <div id=\"5ceb2b13-3e0b-4578-b19d-ea0d7222140c\" class=\"plotly-graph-div\" style=\"height:600px; width:800px;\"></div>            <script type=\"text/javascript\">                require([\"plotly\"], function(Plotly) {                    window.PLOTLYENV=window.PLOTLYENV || {};                                    if (document.getElementById(\"5ceb2b13-3e0b-4578-b19d-ea0d7222140c\")) {                    Plotly.newPlot(                        \"5ceb2b13-3e0b-4578-b19d-ea0d7222140c\",                        [{\"hole\":0.3,\"labels\":[\"SKT\",\"KT\",\"LG U plus\"],\"marker\":{\"colors\":[\"#7F5CE6\",\"#ED2024\",\"#EC008B\"],\"line\":{\"color\":\"#000000\",\"width\":2}},\"values\":[6141,4624,3597],\"type\":\"pie\",\"textfont\":{\"size\":20},\"hoverinfo\":\"label+value\",\"textinfo\":\"percent\"}],                        {\"template\":{\"data\":{\"histogram2dcontour\":[{\"type\":\"histogram2dcontour\",\"colorbar\":{\"outlinewidth\":0,\"ticks\":\"\"},\"colorscale\":[[0.0,\"#0d0887\"],[0.1111111111111111,\"#46039f\"],[0.2222222222222222,\"#7201a8\"],[0.3333333333333333,\"#9c179e\"],[0.4444444444444444,\"#bd3786\"],[0.5555555555555556,\"#d8576b\"],[0.6666666666666666,\"#ed7953\"],[0.7777777777777778,\"#fb9f3a\"],[0.8888888888888888,\"#fdca26\"],[1.0,\"#f0f921\"]]}],\"choropleth\":[{\"type\":\"choropleth\",\"colorbar\":{\"outlinewidth\":0,\"ticks\":\"\"}}],\"histogram2d\":[{\"type\":\"histogram2d\",\"colorbar\":{\"outlinewidth\":0,\"ticks\":\"\"},\"colorscale\":[[0.0,\"#0d0887\"],[0.1111111111111111,\"#46039f\"],[0.2222222222222222,\"#7201a8\"],[0.3333333333333333,\"#9c179e\"],[0.4444444444444444,\"#bd3786\"],[0.5555555555555556,\"#d8576b\"],[0.6666666666666666,\"#ed7953\"],[0.7777777777777778,\"#fb9f3a\"],[0.8888888888888888,\"#fdca26\"],[1.0,\"#f0f921\"]]}],\"heatmap\":[{\"type\":\"heatmap\",\"colorbar\":{\"outlinewidth\":0,\"ticks\":\"\"},\"colorscale\":[[0.0,\"#0d0887\"],[0.1111111111111111,\"#46039f\"],[0.2222222222222222,\"#7201a8\"],[0.3333333333333333,\"#9c179e\"],[0.4444444444444444,\"#bd3786\"],[0.5555555555555556,\"#d8576b\"],[0.6666666666666666,\"#ed7953\"],[0.7777777777777778,\"#fb9f3a\"],[0.8888888888888888,\"#fdca26\"],[1.0,\"#f0f921\"]]}],\"heatmapgl\":[{\"type\":\"heatmapgl\",\"colorbar\":{\"outlinewidth\":0,\"ticks\":\"\"},\"colorscale\":[[0.0,\"#0d0887\"],[0.1111111111111111,\"#46039f\"],[0.2222222222222222,\"#7201a8\"],[0.3333333333333333,\"#9c179e\"],[0.4444444444444444,\"#bd3786\"],[0.5555555555555556,\"#d8576b\"],[0.6666666666666666,\"#ed7953\"],[0.7777777777777778,\"#fb9f3a\"],[0.8888888888888888,\"#fdca26\"],[1.0,\"#f0f921\"]]}],\"contourcarpet\":[{\"type\":\"contourcarpet\",\"colorbar\":{\"outlinewidth\":0,\"ticks\":\"\"}}],\"contour\":[{\"type\":\"contour\",\"colorbar\":{\"outlinewidth\":0,\"ticks\":\"\"},\"colorscale\":[[0.0,\"#0d0887\"],[0.1111111111111111,\"#46039f\"],[0.2222222222222222,\"#7201a8\"],[0.3333333333333333,\"#9c179e\"],[0.4444444444444444,\"#bd3786\"],[0.5555555555555556,\"#d8576b\"],[0.6666666666666666,\"#ed7953\"],[0.7777777777777778,\"#fb9f3a\"],[0.8888888888888888,\"#fdca26\"],[1.0,\"#f0f921\"]]}],\"surface\":[{\"type\":\"surface\",\"colorbar\":{\"outlinewidth\":0,\"ticks\":\"\"},\"colorscale\":[[0.0,\"#0d0887\"],[0.1111111111111111,\"#46039f\"],[0.2222222222222222,\"#7201a8\"],[0.3333333333333333,\"#9c179e\"],[0.4444444444444444,\"#bd3786\"],[0.5555555555555556,\"#d8576b\"],[0.6666666666666666,\"#ed7953\"],[0.7777777777777778,\"#fb9f3a\"],[0.8888888888888888,\"#fdca26\"],[1.0,\"#f0f921\"]]}],\"mesh3d\":[{\"type\":\"mesh3d\",\"colorbar\":{\"outlinewidth\":0,\"ticks\":\"\"}}],\"scatter\":[{\"fillpattern\":{\"fillmode\":\"overlay\",\"size\":10,\"solidity\":0.2},\"type\":\"scatter\"}],\"parcoords\":[{\"type\":\"parcoords\",\"line\":{\"colorbar\":{\"outlinewidth\":0,\"ticks\":\"\"}}}],\"scatterpolargl\":[{\"type\":\"scatterpolargl\",\"marker\":{\"colorbar\":{\"outlinewidth\":0,\"ticks\":\"\"}}}],\"bar\":[{\"error_x\":{\"color\":\"#2a3f5f\"},\"error_y\":{\"color\":\"#2a3f5f\"},\"marker\":{\"line\":{\"color\":\"#E5ECF6\",\"width\":0.5},\"pattern\":{\"fillmode\":\"overlay\",\"size\":10,\"solidity\":0.2}},\"type\":\"bar\"}],\"scattergeo\":[{\"type\":\"scattergeo\",\"marker\":{\"colorbar\":{\"outlinewidth\":0,\"ticks\":\"\"}}}],\"scatterpolar\":[{\"type\":\"scatterpolar\",\"marker\":{\"colorbar\":{\"outlinewidth\":0,\"ticks\":\"\"}}}],\"histogram\":[{\"marker\":{\"pattern\":{\"fillmode\":\"overlay\",\"size\":10,\"solidity\":0.2}},\"type\":\"histogram\"}],\"scattergl\":[{\"type\":\"scattergl\",\"marker\":{\"colorbar\":{\"outlinewidth\":0,\"ticks\":\"\"}}}],\"scatter3d\":[{\"type\":\"scatter3d\",\"line\":{\"colorbar\":{\"outlinewidth\":0,\"ticks\":\"\"}},\"marker\":{\"colorbar\":{\"outlinewidth\":0,\"ticks\":\"\"}}}],\"scattermapbox\":[{\"type\":\"scattermapbox\",\"marker\":{\"colorbar\":{\"outlinewidth\":0,\"ticks\":\"\"}}}],\"scatterternary\":[{\"type\":\"scatterternary\",\"marker\":{\"colorbar\":{\"outlinewidth\":0,\"ticks\":\"\"}}}],\"scattercarpet\":[{\"type\":\"scattercarpet\",\"marker\":{\"colorbar\":{\"outlinewidth\":0,\"ticks\":\"\"}}}],\"carpet\":[{\"aaxis\":{\"endlinecolor\":\"#2a3f5f\",\"gridcolor\":\"white\",\"linecolor\":\"white\",\"minorgridcolor\":\"white\",\"startlinecolor\":\"#2a3f5f\"},\"baxis\":{\"endlinecolor\":\"#2a3f5f\",\"gridcolor\":\"white\",\"linecolor\":\"white\",\"minorgridcolor\":\"white\",\"startlinecolor\":\"#2a3f5f\"},\"type\":\"carpet\"}],\"table\":[{\"cells\":{\"fill\":{\"color\":\"#EBF0F8\"},\"line\":{\"color\":\"white\"}},\"header\":{\"fill\":{\"color\":\"#C8D4E3\"},\"line\":{\"color\":\"white\"}},\"type\":\"table\"}],\"barpolar\":[{\"marker\":{\"line\":{\"color\":\"#E5ECF6\",\"width\":0.5},\"pattern\":{\"fillmode\":\"overlay\",\"size\":10,\"solidity\":0.2}},\"type\":\"barpolar\"}],\"pie\":[{\"automargin\":true,\"type\":\"pie\"}]},\"layout\":{\"autotypenumbers\":\"strict\",\"colorway\":[\"#636efa\",\"#EF553B\",\"#00cc96\",\"#ab63fa\",\"#FFA15A\",\"#19d3f3\",\"#FF6692\",\"#B6E880\",\"#FF97FF\",\"#FECB52\"],\"font\":{\"color\":\"#2a3f5f\"},\"hovermode\":\"closest\",\"hoverlabel\":{\"align\":\"left\"},\"paper_bgcolor\":\"white\",\"plot_bgcolor\":\"#E5ECF6\",\"polar\":{\"bgcolor\":\"#E5ECF6\",\"angularaxis\":{\"gridcolor\":\"white\",\"linecolor\":\"white\",\"ticks\":\"\"},\"radialaxis\":{\"gridcolor\":\"white\",\"linecolor\":\"white\",\"ticks\":\"\"}},\"ternary\":{\"bgcolor\":\"#E5ECF6\",\"aaxis\":{\"gridcolor\":\"white\",\"linecolor\":\"white\",\"ticks\":\"\"},\"baxis\":{\"gridcolor\":\"white\",\"linecolor\":\"white\",\"ticks\":\"\"},\"caxis\":{\"gridcolor\":\"white\",\"linecolor\":\"white\",\"ticks\":\"\"}},\"coloraxis\":{\"colorbar\":{\"outlinewidth\":0,\"ticks\":\"\"}},\"colorscale\":{\"sequential\":[[0.0,\"#0d0887\"],[0.1111111111111111,\"#46039f\"],[0.2222222222222222,\"#7201a8\"],[0.3333333333333333,\"#9c179e\"],[0.4444444444444444,\"#bd3786\"],[0.5555555555555556,\"#d8576b\"],[0.6666666666666666,\"#ed7953\"],[0.7777777777777778,\"#fb9f3a\"],[0.8888888888888888,\"#fdca26\"],[1.0,\"#f0f921\"]],\"sequentialminus\":[[0.0,\"#0d0887\"],[0.1111111111111111,\"#46039f\"],[0.2222222222222222,\"#7201a8\"],[0.3333333333333333,\"#9c179e\"],[0.4444444444444444,\"#bd3786\"],[0.5555555555555556,\"#d8576b\"],[0.6666666666666666,\"#ed7953\"],[0.7777777777777778,\"#fb9f3a\"],[0.8888888888888888,\"#fdca26\"],[1.0,\"#f0f921\"]],\"diverging\":[[0,\"#8e0152\"],[0.1,\"#c51b7d\"],[0.2,\"#de77ae\"],[0.3,\"#f1b6da\"],[0.4,\"#fde0ef\"],[0.5,\"#f7f7f7\"],[0.6,\"#e6f5d0\"],[0.7,\"#b8e186\"],[0.8,\"#7fbc41\"],[0.9,\"#4d9221\"],[1,\"#276419\"]]},\"xaxis\":{\"gridcolor\":\"white\",\"linecolor\":\"white\",\"ticks\":\"\",\"title\":{\"standoff\":15},\"zerolinecolor\":\"white\",\"automargin\":true,\"zerolinewidth\":2},\"yaxis\":{\"gridcolor\":\"white\",\"linecolor\":\"white\",\"ticks\":\"\",\"title\":{\"standoff\":15},\"zerolinecolor\":\"white\",\"automargin\":true,\"zerolinewidth\":2},\"scene\":{\"xaxis\":{\"backgroundcolor\":\"#E5ECF6\",\"gridcolor\":\"white\",\"linecolor\":\"white\",\"showbackground\":true,\"ticks\":\"\",\"zerolinecolor\":\"white\",\"gridwidth\":2},\"yaxis\":{\"backgroundcolor\":\"#E5ECF6\",\"gridcolor\":\"white\",\"linecolor\":\"white\",\"showbackground\":true,\"ticks\":\"\",\"zerolinecolor\":\"white\",\"gridwidth\":2},\"zaxis\":{\"backgroundcolor\":\"#E5ECF6\",\"gridcolor\":\"white\",\"linecolor\":\"white\",\"showbackground\":true,\"ticks\":\"\",\"zerolinecolor\":\"white\",\"gridwidth\":2}},\"shapedefaults\":{\"line\":{\"color\":\"#2a3f5f\"}},\"annotationdefaults\":{\"arrowcolor\":\"#2a3f5f\",\"arrowhead\":0,\"arrowwidth\":1},\"geo\":{\"bgcolor\":\"white\",\"landcolor\":\"#E5ECF6\",\"subunitcolor\":\"white\",\"showland\":true,\"showlakes\":true,\"lakecolor\":\"white\"},\"title\":{\"x\":0.05},\"mapbox\":{\"style\":\"light\"}}},\"title\":{\"text\":\"\\uc0b0\\uc545\\uc9c0\\uc5ed \\ubb34\\uc120\\uad6d \\ud1b5\\uc2e0\\uc0ac \\ube44\\uc728\",\"x\":0.5,\"y\":0.9,\"font\":{\"size\":24,\"family\":\"Gulim\",\"color\":\"black\"}},\"legend\":{\"font\":{\"size\":20,\"family\":\"Gulim\",\"color\":\"black\"},\"x\":0.9,\"y\":0.9,\"traceorder\":\"normal\",\"orientation\":\"v\"},\"width\":800,\"height\":600,\"annotations\":[{\"showarrow\":false,\"text\":\"\\uc0b0\\uc545\\uc9c0\\uc5ed\\u003cbr\\u003e\\ubb34\\uc120\\uad6d\\u003cbr\\u003e\\ud1b5\\uc2e0\\uc0ac\",\"x\":0.5,\"xanchor\":\"center\",\"y\":0.5,\"yanchor\":\"middle\",\"font\":{\"size\":20,\"family\":\"Gulim\"}}]},                        {\"responsive\": true}                    ).then(function(){\n",
       "                            \n",
       "var gd = document.getElementById('5ceb2b13-3e0b-4578-b19d-ea0d7222140c');\n",
       "var x = new MutationObserver(function (mutations, observer) {{\n",
       "        var display = window.getComputedStyle(gd).display;\n",
       "        if (!display || display === 'none') {{\n",
       "            console.log([gd, 'removed!']);\n",
       "            Plotly.purge(gd);\n",
       "            observer.disconnect();\n",
       "        }}\n",
       "}});\n",
       "\n",
       "// Listen for the removal of the full notebook cells\n",
       "var notebookContainer = gd.closest('#notebook-container');\n",
       "if (notebookContainer) {{\n",
       "    x.observe(notebookContainer, {childList: true});\n",
       "}}\n",
       "\n",
       "// Listen for the clearing of the current output cell\n",
       "var outputEl = gd.closest('.output');\n",
       "if (outputEl) {{\n",
       "    x.observe(outputEl, {childList: true});\n",
       "}}\n",
       "\n",
       "                        })                };                });            </script>        </div>"
      ]
     },
     "metadata": {},
     "output_type": "display_data"
    }
   ],
   "source": [
    "\n",
    "\n",
    "fig = go.Figure(data=[go.Pie(\n",
    "    labels=pie['시설자명'],\n",
    "    values=pie['합계'],\n",
    "    hole=.3,  # 원형 차트 만들기\n",
    "    marker=dict(\n",
    "        colors=[  # 색상을 '시설자명' 기준으로 지정\n",
    "            '#7F5CE6',  # SKT (연한 파란색)\n",
    "            '#ED2024',   # KT (빨간색)\n",
    "            '#EC008B'    # LG U plus (핑크색)\n",
    "        ]\n",
    "    )\n",
    ")])\n",
    "\n",
    "# 도화지 크기 조정\n",
    "fig.update_layout(\n",
    "    title='산악지역 무선국 통신사 비율',\n",
    "    width=800,  # 차트의 가로 크기\n",
    "    height=600,  # 차트의 세로 크기\n",
    "    title_x=0.5,  # 제목 위치 조정 (0은 왼쪽, 1은 오른쪽, 0.5는 가운데)\n",
    "    title_y=0.9,  # 제목 위치 조정 (0은 왼쪽, 1은 오른쪽, 0.5는 가운데)\n",
    "    title_font=dict(size=24, family='Gulim', color='black'),  # 제목 텍스트 스타일 설정\n",
    "\n",
    "    annotations=[dict(\n",
    "        text='산악지역<br>무선국<br>통신사',  # 표시할 텍스트\n",
    "        x=0.5,  # X 위치 (0은 왼쪽, 1은 오른쪽)\n",
    "        y=0.5,  # Y 위치 (0은 아래, 1은 위)\n",
    "        font_size=20,  # 글자 크기\n",
    "        font_family = 'Gulim',\n",
    "        showarrow=False,  # 화살표 없음\n",
    "        xanchor=\"center\",  # X 기준: 텍스트의 중앙\n",
    "        yanchor=\"middle\"  # Y 기준: 텍스트의 중앙\n",
    "    )],\n",
    "\n",
    "    # 범례 스타일 설정\n",
    "    legend=dict(\n",
    "        #title=\"통신사\",  # 범례 제목\n",
    "        #title_font=dict(size=16, family='Arial', color='black'),  # 범례 제목 폰트 설정\n",
    "        font=dict(size=20, family='Gulim', color='black'),  # 범례 항목 폰트 설정\n",
    "        x=0.9,  # 범례 위치 (0은 왼쪽, 1은 오른쪽, 0.5는 가운데)\n",
    "        y=0.9,  # 범례 위치 (0은 아래, 1은 위, 0.5는 가운데)\n",
    "        traceorder='normal',  # 범례 항목의 순서\n",
    "        orientation='v'  # 범례 항목의 배치: 수직('v') 또는 수평('h')\n",
    "    )\n",
    ")\n",
    "\n",
    "fig.update_traces(hoverinfo='label+value', textinfo='percent', textfont_size=20,\n",
    "                  marker=dict(colors=colors, line=dict(color='#000000', width=2)))\n",
    "\n",
    "fig.show()\n"
   ]
  },
  {
   "cell_type": "markdown",
   "id": "8f7f73ec-e49a-4ec7-b6e4-cf3bd0a99277",
   "metadata": {},
   "source": [
    "### 이건 쫌 쓰기 그렇구만"
   ]
  },
  {
   "cell_type": "code",
   "execution_count": 146,
   "id": "f3d74414-9239-4565-87ef-61eae6c17969",
   "metadata": {},
   "outputs": [],
   "source": [
    "# 시각화 패키지\n",
    "import matplotlib \n",
    "import matplotlib.pyplot as plt\n",
    "\n",
    "# 한글 설정 약식 코드 - 여기선 굴림으로 지정했습니다\n",
    "plt.rcParams['font.family']='gulim'\n",
    "plt.rcParams['axes.unicode_minus'] = False"
   ]
  },
  {
   "cell_type": "code",
   "execution_count": 174,
   "id": "e7a2a85a-bb06-4fa7-bb2f-c8a198ea293d",
   "metadata": {},
   "outputs": [
    {
     "data": {
      "image/png": "[encoded data removed]",
      "text/plain": [
       "<Figure size 640x480 with 1 Axes>"
      ]
     },
     "metadata": {},
     "output_type": "display_data"
    }
   ],
   "source": [
    "colors = ['#7F5CE6', '#ED2024', '#EC008B']\n",
    "\n",
    "# 폰트 크기와 스타일을 설정하는 방법\n",
    "font_properties = {'fontsize': 16}\n",
    "\n",
    "# 파이 차트 그리기\n",
    "fig, ax = plt.subplots()\n",
    "ax.pie(pie['합계'], labels=pie['시설자명'], colors=colors, autopct='%1.1f%%', \n",
    "       startangle=90, textprops=font_properties)\n",
    "ax.set_title('산악지역 무선국 시설자 비율', size = 20)\n",
    "ax.axis('equal')  # 원형 유지\n",
    "\n",
    "# 차트 출력\n",
    "plt.show()"
   ]
  },
  {
   "cell_type": "markdown",
   "id": "797d9432-36d3-49b7-89e1-24b9aa245098",
   "metadata": {},
   "source": [
    "# 결측치, 중복값 확인"
   ]
  },
  {
   "cell_type": "code",
   "execution_count": 44,
   "id": "60063051-85c4-49f2-b6df-7f415994fa42",
   "metadata": {},
   "outputs": [
    {
     "data": {
      "text/plain": [
       "구분             0\n",
       "이름             0\n",
       "허가번호           0\n",
       "허가연도           0\n",
       "시설자명          44\n",
       "설치장소           0\n",
       "용도             0\n",
       "장치개수           0\n",
       "주파수(MHz)    2325\n",
       "출력(W)       2325\n",
       "안테나설치형태     1080\n",
       "대표이득          57\n",
       "해발고           87\n",
       "지상고          791\n",
       "노출고         1685\n",
       "위도             0\n",
       "경도             0\n",
       "dtype: int64"
      ]
     },
     "execution_count": 44,
     "metadata": {},
     "output_type": "execute_result"
    }
   ],
   "source": [
    "# 결측치 확인\n",
    "final_df.isnull().sum()"
   ]
  },
  {
   "cell_type": "code",
   "execution_count": 52,
   "id": "16999b7c-0fba-4bea-a424-e62292039d0f",
   "metadata": {},
   "outputs": [
    {
     "name": "stdout",
     "output_type": "stream",
     "text": [
      "중복값 제거 전 :  14406\n",
      "중복값 제거 후 :  14406\n"
     ]
    }
   ],
   "source": [
    "# 중복값 확인 >> 없음\n",
    "print(\"중복값 제거 전 : \", len(final_df))\n",
    "print(\"중복값 제거 후 : \", len(final_df.drop_duplicates(subset='허가번호', keep='first')))"
   ]
  },
  {
   "cell_type": "code",
   "execution_count": null,
   "id": "3e86c019-ff42-4c02-b5db-8fcbe1e7b160",
   "metadata": {},
   "outputs": [],
   "source": []
  },
  {
   "cell_type": "code",
   "execution_count": null,
   "id": "aa5548bc-6f31-4915-b14c-68493e94c566",
   "metadata": {},
   "outputs": [],
   "source": []
  },
  {
   "cell_type": "code",
   "execution_count": null,
   "id": "ba091c0b-671b-4643-bc8a-249052543649",
   "metadata": {},
   "outputs": [],
   "source": []
  },
  {
   "cell_type": "code",
   "execution_count": null,
   "id": "f908a7f0-49fe-4b3c-b66e-342681f2f4c3",
   "metadata": {},
   "outputs": [],
   "source": []
  },
  {
   "cell_type": "markdown",
   "id": "c8148108-d991-4469-abe9-f6a186eb41a1",
   "metadata": {},
   "source": [
    "# 주파수 KDE plot (커널 밀도 차트)"
   ]
  },
  {
   "cell_type": "code",
   "execution_count": 332,
   "id": "7f6f6636-61e6-426f-8d15-56713bb9fdf4",
   "metadata": {},
   "outputs": [],
   "source": [
    "# 필요한 패키지 임포트\n",
    "import numpy as np\n",
    "import pandas as pd\n",
    "import matplotlib.pyplot as plt\n",
    "\n",
    "# 고해상도 디스플레이 설정\n",
    "%config InlineBackend.figure_format = 'retina'\n",
    "# 폰트를 'Malgun Gothic'으로 설정\n",
    "plt.rcParams['font.family'] = \"Malgun Gothic\"\n",
    "# 마이너스 부호 깨짐 현상 해결\n",
    "plt.rcParams[\"axes.unicode_minus\"] = False\n",
    "\n",
    "# 경고 메시지 무시\n",
    "import warnings\n",
    "warnings.filterwarnings('ignore')\n",
    "\n",
    "# Seaborn 시각화 패키지 임포트\n",
    "import seaborn as sns\n",
    "sns.set(font=\"Malgun Gothic\",             # 폰트 설정\n",
    "        rc={\"axes.unicode_minus\":False})  # 마이너스 부호 깨짐 현상 방지\n",
    "sns.set_theme(style=\"white\",                       # 테마 \n",
    "              rc={\"axes.facecolor\": (0, 0, 0, 0)}) # 배경 색 (투명하게)"
   ]
  },
  {
   "cell_type": "code",
   "execution_count": 352,
   "id": "cf15ccea-e68d-4fb6-a191-7e0996868048",
   "metadata": {},
   "outputs": [
    {
     "data": {
      "image/png": "[encoded data removed]",
      "text/plain": [
       "<Figure size 1200x300 with 9 Axes>"
      ]
     },
     "metadata": {
      "image/png": {
       "height": 296,
       "width": 1109
      }
     },
     "output_type": "display_data"
    }
   ],
   "source": [
    "# 색 설정\n",
    "pal = sns.cubehelix_palette(n_colors=10, # 색상의 수\n",
    "                            rot=-.25,    # 색상 회전 값\n",
    "                            light=.7)    # 색상 밝기\n",
    "\n",
    "# Create FacetGrid object\n",
    "# 데이터를 다른 묶음(행, 열 기준) 으로 나눈다.\n",
    "g = sns.FacetGrid(data=df, \n",
    "                  row='시설자명', # 행 (범주형)\n",
    "                  col='구분',    # 열 (범주형)\n",
    "                  hue='시설자명', # 해당 값으로 색 구분\n",
    "                  aspect=4,     # 각 그림의 가로 세로 비율 (가로 = 세로 * 4)\n",
    "                  height=1,     # 각 그림의 세로 크기\n",
    "                  sharey=True,  # X축 공유\n",
    "                  sharex=True,  # Y축 공유\n",
    "                  palette=pal)  # 색 설정\n",
    "\n",
    "# kde (커널 밀도 차트)\n",
    "g.map(sns.kdeplot, \n",
    "      '주파수(MHz)',         # X축에 사용할 변수\n",
    "      clip_on=False, # 그래프 영역을 벗어나는 부분(마이너스 등) 잘라내기\n",
    "      bw_adjust=.5,  # 대역폭 조정\n",
    "      fill=True,     # 색 채우기\n",
    "      alpha=1,       # 채우기 색 투명도 0 (투명) - 1 (불투명)\n",
    "      linewidth=1.5) # 선 굵기\n",
    "\n",
    "# kde - line\n",
    "g.map(sns.kdeplot, \n",
    "      '주파수(MHz)',\n",
    "      clip_on=False,\n",
    "      bw_adjust=.5,\n",
    "      fill=True,\n",
    "      linewidth=2,\n",
    "      color=\"w\")\n",
    "\n",
    "# refline : reference line (기준선)\n",
    "g.refline(y=0, \n",
    "          linewidth=2,\n",
    "          linestyle=\"-\",\n",
    "          color=None,\n",
    "          clip_on=False)\n",
    "\n",
    "# 각 차트의 제목에 무엇이 나올지 설정\n",
    "g.set_titles(template='{col_name}', \n",
    "             row_template=\"\", \n",
    "             col_template=\"\")\n",
    "\n",
    "# axes 직접 접근, 1차원 행렬로 표현\n",
    "axs = g.axes.ravel()\n",
    "# 각 차트에 직접 접근해서 title과 text를 직접 설정한다.\n",
    "for i, ax in enumerate(axs):\n",
    "    \n",
    "    # 열 title 수정 - 제일 윗 부분만 title이 존재하도록 한다\n",
    "    if i == 0 or i== 1 or i == 2:\n",
    "        axs[i].set_title(ax.get_title(),\n",
    "                         fontdict={\"fontsize\":\"xx-large\", \"color\":\"k\", \"family\":\"Malgun Gothic\"},\n",
    "                         pad=0) # 간격 \n",
    "    else :\n",
    "        axs[i].set_title('')\n",
    "    \n",
    "    # 아래 X축 라벨 설정\n",
    "    if i == 6 or i == 7 or i == 8:\n",
    "        axs[i].set_xlabel(xlabel = '주파수(MHz)', \n",
    "                          fontdict={\"fontsize\":\"large\",\n",
    "                                    \"color\":\"k\",\n",
    "        # 한글 설정을 위해서는 각 그림(축공간, axs[i])에 폰트 설정을 각각 해줘야 한다.\n",
    "                                    \"family\":\"Malgun Gothic\"}) \n",
    "        \n",
    "    \n",
    "    # 각 차트의 왼쪽에 pclass를 보여준다.\n",
    "    text = ax.annotate(list(g.axes_dict.keys())[i][0], \n",
    "                       xy=(0, 0.25), xycoords=\"axes fraction\", rotation=0, \n",
    "                       ha=\"left\", va=\"center\",\n",
    "                       fontsize=\"x-large\", color='tab:blue')\n",
    "\n",
    "# Y축 눈금, 라벨 없애기\n",
    "g.set(yticks=[], ylabel=\"\")\n",
    "# 축 없애기\n",
    "g.despine(bottom=True, left=True)\n",
    "# 차트 위아래가 겹쳐보이기 위한 간격 조정\n",
    "g.figure.subplots_adjust(hspace=-.25)\n",
    "\n",
    "plt.savefig('구분및통신사별주파수분포.png', dpi = 400)\n",
    "plt.show()\n"
   ]
  },
  {
   "cell_type": "code",
   "execution_count": null,
   "id": "9db6e633-be39-4f1f-8e31-89df61f8e6a7",
   "metadata": {},
   "outputs": [],
   "source": []
  }
 ],
 "metadata": {
  "kernelspec": {
   "display_name": "Python 3 (ipykernel)",
   "language": "python",
   "name": "python3"
  },
  "language_info": {
   "codemirror_mode": {
    "name": "ipython",
    "version": 3
   },
   "file_extension": ".py",
   "mimetype": "text/x-python",
   "name": "python",
   "nbconvert_exporter": "python",
   "pygments_lexer": "ipython3",
   "version": "3.11.9"
  }
 },
 "nbformat": 4,
 "nbformat_minor": 5
}
